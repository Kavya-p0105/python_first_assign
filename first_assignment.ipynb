{
 "cells": [
  {
   "cell_type": "markdown",
   "id": "6623b836-403c-4bc0-ae13-52ab22a649d6",
   "metadata": {},
   "source": [
    "Python Assignment"
   ]
  },
  {
   "cell_type": "raw",
   "id": "701fc1a3-d7be-4987-b7d3-0e32c7f8443d",
   "metadata": {},
   "source": [
    "1.Explane the key feature of python that make it a popular choice for a programming?\n",
    "\n",
    "Asnwer:Python is a programming language that is easy to understand and write, making it a popular choice among developers and programmers.and It is compatible with various programming paradigms, such as procedural, object-oriented, and functional programming. "
   ]
  },
  {
   "cell_type": "raw",
   "id": "cfa746b6-ed3d-448d-af47-3dbd22f4bcee",
   "metadata": {},
   "source": [
    "2.Describe the role of predefined keywords in Python and provide examples of how they are used in a\n",
    "program?\n",
    "Answer:Keywords are reserved words in Python that have special meanings and cannot be used as identifiers like variable names, function names, etc. \n",
    "Examples:print, if, else, while, for, def, class, import, try, except, return, True, False, None, etc.\n",
    "Keywords are case-sensitive and cannot be redefined or overridden within a Python program."
   ]
  },
  {
   "cell_type": "raw",
   "id": "4b03ef02-8e53-4e44-be22-85ef14770580",
   "metadata": {},
   "source": [
    "3.Compare and contrast mutable and immutable objects in Python with examples?\n",
    "Answer:         mutable                               immutable\n",
    "         1.Mutable objects                            1.immutable objects can't be change after creation.\n",
    "         can be modified after creation               ex:int,float,string.\n",
    "         ex:list,dictinories.\n",
    "         "
   ]
  },
  {
   "cell_type": "raw",
   "id": "e56a44c4-a276-4dad-b7fb-3fda9c7f0aed",
   "metadata": {},
   "source": [
    "4.Discuss the different types of operators in Python and provide examples of how they are used?\n",
    "Answer:python have the diffrent types of operators are there like \n",
    "1.Arithmetic operators:- (+,-,*,/,%,**,//)\n",
    "ex:a=2,b=3\n",
    "  print( a+b,a-b,a*b,a/b,a%b,a**,a//b)\n",
    "2.Assignment operators:-(=,+=,-=)\n",
    "ex:x=3\n",
    "x+=,x-=\n",
    "3.Comparison operators:-(==,!=,>,<,>=,<=)\n",
    "ex:m=4,n=6\n",
    "m>n,m<n,m>=n, etc.\n",
    "4.Logical    operators:-(&,|,not)\n",
    "ex: a=3,b=5\n",
    "a&b,a|b,anotb.\n",
    "5.Membership operators:-(in,not in)\n",
    "ex:s=\"hello\"\n",
    "print('e' in s),print('j' not in s)\n",
    "6.Identity   operators:-(is, isnot)\n",
    "ex:p=4,q=4\n",
    "print(p is q),print(p isnot q)\n",
    "7.Bitwise    operators:-(&,|,^)\n",
    "ex:m=3,n=8\n",
    "print(m&n),print(m|n),print(m^n)."
   ]
  },
  {
   "cell_type": "raw",
   "id": "680eb74c-fac4-47e3-b5be-2a474fa797eb",
   "metadata": {},
   "source": [
    "5.explain the concept of type casting in Python with examples?\n",
    "Answer:Type casting, also referred to as type conversion, is the process of changing one data type to another in Python.and Type casting is often necessary for performing arithmetic operations, data manipulation, and input/output operations in Python programs.\n",
    "ex:a=\"3\"\n",
    "print(type(a))      #it is showing string type\n",
    "   a=int(\"3\")\n",
    "print(type(a))      # it is showing intger data type\n"
   ]
  },
  {
   "cell_type": "code",
   "execution_count": null,
   "id": "835faf42-72a3-443f-8ce3-83bcfd3d345f",
   "metadata": {},
   "outputs": [],
   "source": [
    "6.How do conditional statements work in Python? Illustrate with examples?\n",
    "Answer:Conditionals in Python are used to execute code based on the evaluation of one or more conditions.Conditionals can be nested to handle multiple conditions and control different branches of execution based on the outcome of logical expressions.\n",
    "and types of conditional statement are\n",
    "If,else If,If else If.\n",
    "If Statement:x=2\n",
    "           if x==2 :\n",
    "           print(x)\n",
    "else If:y=3\n",
    "     if y==2 :\n",
    "     print(\"Correct\")\n",
    "     else\n",
    "     print(\"not correct\")\n",
    "If else If:z=4\n",
    "         if z==2 :\n",
    "         print(\"ststement not true\")\n",
    "         if z==5 :\n",
    "         print(\"Re write the statement\")\n",
    "         if z==4:\n",
    "         print(\"statement is true\")\n",
    "         else \n",
    "         print(\"Statement is false\")"
   ]
  },
  {
   "cell_type": "code",
   "execution_count": null,
   "id": "5b464e4d-59f8-4c0d-b011-1c9017163f92",
   "metadata": {},
   "outputs": [],
   "source": [
    "7.Describe the different types of loops in Python and their use cases with examples?\n",
    "Answer:In Python, loops are employed to repeat a sequence of actions or code until a specific condition is fulfilled.\n",
    "and types of loops are \n",
    "for loops and while loops.\n",
    "for loop:loops are used for iterating over a sequence of elements.\n",
    "ex: language =\"python\"\n",
    "    for x in language\n",
    "    print(x)\n",
    "while loop: loops are used for executing code until a specified condition becomes False.\n",
    "ex:number = 3\n",
    "   while number<=3:\n",
    "   print(number)\n",
    "   number=number+1"
   ]
  }
 ],
 "metadata": {
  "kernelspec": {
   "display_name": "Python 3 (ipykernel)",
   "language": "python",
   "name": "python3"
  },
  "language_info": {
   "codemirror_mode": {
    "name": "ipython",
    "version": 3
   },
   "file_extension": ".py",
   "mimetype": "text/x-python",
   "name": "python",
   "nbconvert_exporter": "python",
   "pygments_lexer": "ipython3",
   "version": "3.10.8"
  }
 },
 "nbformat": 4,
 "nbformat_minor": 5
}
